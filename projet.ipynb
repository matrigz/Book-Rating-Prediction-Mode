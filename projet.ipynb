{
 "cells": [
  {
   "cell_type": "markdown",
   "id": "ebb6c87c",
   "metadata": {},
   "source": [
    "# Project: Book Rating Prediction Model"
   ]
  },
  {
   "cell_type": "code",
   "execution_count": 64,
   "id": "550a8c43",
   "metadata": {},
   "outputs": [],
   "source": [
    "import numpy as np\n",
    "import pandas as pd\n",
    "import matplotlib.pyplot as plt\n",
    "from sklearn import preprocessing\n",
    "from sklearn.linear_model import LinearRegression \n",
    "from sklearn.model_selection import train_test_split\n",
    "from sklearn.metrics import mean_squared_error, mean_absolute_error, r2_score"
   ]
  },
  {
   "cell_type": "markdown",
   "id": "4b6673ec",
   "metadata": {},
   "source": [
    "## 1. Load dataset"
   ]
  },
  {
   "cell_type": "code",
   "execution_count": 65,
   "id": "2709345d",
   "metadata": {
    "scrolled": true
   },
   "outputs": [
    {
     "name": "stderr",
     "output_type": "stream",
     "text": [
      "Skipping line 3350: expected 12 fields, saw 13\n",
      "Skipping line 4704: expected 12 fields, saw 13\n",
      "Skipping line 5879: expected 12 fields, saw 13\n",
      "Skipping line 8981: expected 12 fields, saw 13\n",
      "\n"
     ]
    }
   ],
   "source": [
    "# raise a warning when a bad line (a line with too many fields) is encountered and skip that line\n",
    "df = pd.read_csv(\"books.csv\", on_bad_lines='warn')"
   ]
  },
  {
   "cell_type": "code",
   "execution_count": 66,
   "id": "3c1f094c",
   "metadata": {},
   "outputs": [
    {
     "data": {
      "text/html": [
       "<div>\n",
       "<style scoped>\n",
       "    .dataframe tbody tr th:only-of-type {\n",
       "        vertical-align: middle;\n",
       "    }\n",
       "\n",
       "    .dataframe tbody tr th {\n",
       "        vertical-align: top;\n",
       "    }\n",
       "\n",
       "    .dataframe thead th {\n",
       "        text-align: right;\n",
       "    }\n",
       "</style>\n",
       "<table border=\"1\" class=\"dataframe\">\n",
       "  <thead>\n",
       "    <tr style=\"text-align: right;\">\n",
       "      <th></th>\n",
       "      <th>bookID</th>\n",
       "      <th>title</th>\n",
       "      <th>authors</th>\n",
       "      <th>average_rating</th>\n",
       "      <th>isbn</th>\n",
       "      <th>isbn13</th>\n",
       "      <th>language_code</th>\n",
       "      <th>num_pages</th>\n",
       "      <th>ratings_count</th>\n",
       "      <th>text_reviews_count</th>\n",
       "      <th>publication_date</th>\n",
       "      <th>publisher</th>\n",
       "    </tr>\n",
       "  </thead>\n",
       "  <tbody>\n",
       "    <tr>\n",
       "      <th>0</th>\n",
       "      <td>1</td>\n",
       "      <td>Harry Potter and the Half-Blood Prince (Harry ...</td>\n",
       "      <td>J.K. Rowling/Mary GrandPré</td>\n",
       "      <td>4.57</td>\n",
       "      <td>0439785960</td>\n",
       "      <td>9780439785969</td>\n",
       "      <td>eng</td>\n",
       "      <td>652</td>\n",
       "      <td>2095690</td>\n",
       "      <td>27591</td>\n",
       "      <td>9/16/2006</td>\n",
       "      <td>Scholastic Inc.</td>\n",
       "    </tr>\n",
       "    <tr>\n",
       "      <th>1</th>\n",
       "      <td>2</td>\n",
       "      <td>Harry Potter and the Order of the Phoenix (Har...</td>\n",
       "      <td>J.K. Rowling/Mary GrandPré</td>\n",
       "      <td>4.49</td>\n",
       "      <td>0439358078</td>\n",
       "      <td>9780439358071</td>\n",
       "      <td>eng</td>\n",
       "      <td>870</td>\n",
       "      <td>2153167</td>\n",
       "      <td>29221</td>\n",
       "      <td>9/1/2004</td>\n",
       "      <td>Scholastic Inc.</td>\n",
       "    </tr>\n",
       "    <tr>\n",
       "      <th>2</th>\n",
       "      <td>4</td>\n",
       "      <td>Harry Potter and the Chamber of Secrets (Harry...</td>\n",
       "      <td>J.K. Rowling</td>\n",
       "      <td>4.42</td>\n",
       "      <td>0439554896</td>\n",
       "      <td>9780439554893</td>\n",
       "      <td>eng</td>\n",
       "      <td>352</td>\n",
       "      <td>6333</td>\n",
       "      <td>244</td>\n",
       "      <td>11/1/2003</td>\n",
       "      <td>Scholastic</td>\n",
       "    </tr>\n",
       "    <tr>\n",
       "      <th>3</th>\n",
       "      <td>5</td>\n",
       "      <td>Harry Potter and the Prisoner of Azkaban (Harr...</td>\n",
       "      <td>J.K. Rowling/Mary GrandPré</td>\n",
       "      <td>4.56</td>\n",
       "      <td>043965548X</td>\n",
       "      <td>9780439655484</td>\n",
       "      <td>eng</td>\n",
       "      <td>435</td>\n",
       "      <td>2339585</td>\n",
       "      <td>36325</td>\n",
       "      <td>5/1/2004</td>\n",
       "      <td>Scholastic Inc.</td>\n",
       "    </tr>\n",
       "    <tr>\n",
       "      <th>4</th>\n",
       "      <td>8</td>\n",
       "      <td>Harry Potter Boxed Set  Books 1-5 (Harry Potte...</td>\n",
       "      <td>J.K. Rowling/Mary GrandPré</td>\n",
       "      <td>4.78</td>\n",
       "      <td>0439682584</td>\n",
       "      <td>9780439682589</td>\n",
       "      <td>eng</td>\n",
       "      <td>2690</td>\n",
       "      <td>41428</td>\n",
       "      <td>164</td>\n",
       "      <td>9/13/2004</td>\n",
       "      <td>Scholastic</td>\n",
       "    </tr>\n",
       "  </tbody>\n",
       "</table>\n",
       "</div>"
      ],
      "text/plain": [
       "   bookID                                              title  \\\n",
       "0       1  Harry Potter and the Half-Blood Prince (Harry ...   \n",
       "1       2  Harry Potter and the Order of the Phoenix (Har...   \n",
       "2       4  Harry Potter and the Chamber of Secrets (Harry...   \n",
       "3       5  Harry Potter and the Prisoner of Azkaban (Harr...   \n",
       "4       8  Harry Potter Boxed Set  Books 1-5 (Harry Potte...   \n",
       "\n",
       "                      authors  average_rating        isbn         isbn13  \\\n",
       "0  J.K. Rowling/Mary GrandPré            4.57  0439785960  9780439785969   \n",
       "1  J.K. Rowling/Mary GrandPré            4.49  0439358078  9780439358071   \n",
       "2                J.K. Rowling            4.42  0439554896  9780439554893   \n",
       "3  J.K. Rowling/Mary GrandPré            4.56  043965548X  9780439655484   \n",
       "4  J.K. Rowling/Mary GrandPré            4.78  0439682584  9780439682589   \n",
       "\n",
       "  language_code    num_pages  ratings_count  text_reviews_count  \\\n",
       "0           eng          652        2095690               27591   \n",
       "1           eng          870        2153167               29221   \n",
       "2           eng          352           6333                 244   \n",
       "3           eng          435        2339585               36325   \n",
       "4           eng         2690          41428                 164   \n",
       "\n",
       "  publication_date        publisher  \n",
       "0        9/16/2006  Scholastic Inc.  \n",
       "1         9/1/2004  Scholastic Inc.  \n",
       "2        11/1/2003       Scholastic  \n",
       "3         5/1/2004  Scholastic Inc.  \n",
       "4        9/13/2004       Scholastic  "
      ]
     },
     "execution_count": 66,
     "metadata": {},
     "output_type": "execute_result"
    }
   ],
   "source": [
    "df.head()"
   ]
  },
  {
   "cell_type": "markdown",
   "id": "f9c30f87",
   "metadata": {},
   "source": [
    "## 2. Dataset analysis"
   ]
  },
  {
   "cell_type": "code",
   "execution_count": 67,
   "id": "283f792a",
   "metadata": {
    "scrolled": true
   },
   "outputs": [
    {
     "data": {
      "text/html": [
       "<div>\n",
       "<style scoped>\n",
       "    .dataframe tbody tr th:only-of-type {\n",
       "        vertical-align: middle;\n",
       "    }\n",
       "\n",
       "    .dataframe tbody tr th {\n",
       "        vertical-align: top;\n",
       "    }\n",
       "\n",
       "    .dataframe thead th {\n",
       "        text-align: right;\n",
       "    }\n",
       "</style>\n",
       "<table border=\"1\" class=\"dataframe\">\n",
       "  <thead>\n",
       "    <tr style=\"text-align: right;\">\n",
       "      <th></th>\n",
       "      <th>bookID</th>\n",
       "      <th>average_rating</th>\n",
       "      <th>isbn13</th>\n",
       "      <th>num_pages</th>\n",
       "      <th>ratings_count</th>\n",
       "      <th>text_reviews_count</th>\n",
       "    </tr>\n",
       "  </thead>\n",
       "  <tbody>\n",
       "    <tr>\n",
       "      <th>count</th>\n",
       "      <td>11123.000000</td>\n",
       "      <td>11123.000000</td>\n",
       "      <td>1.112300e+04</td>\n",
       "      <td>11123.000000</td>\n",
       "      <td>1.112300e+04</td>\n",
       "      <td>11123.000000</td>\n",
       "    </tr>\n",
       "    <tr>\n",
       "      <th>mean</th>\n",
       "      <td>21310.856963</td>\n",
       "      <td>3.934075</td>\n",
       "      <td>9.759880e+12</td>\n",
       "      <td>336.405556</td>\n",
       "      <td>1.794285e+04</td>\n",
       "      <td>542.048099</td>\n",
       "    </tr>\n",
       "    <tr>\n",
       "      <th>std</th>\n",
       "      <td>13094.727252</td>\n",
       "      <td>0.350485</td>\n",
       "      <td>4.429758e+11</td>\n",
       "      <td>241.152626</td>\n",
       "      <td>1.124992e+05</td>\n",
       "      <td>2576.619589</td>\n",
       "    </tr>\n",
       "    <tr>\n",
       "      <th>min</th>\n",
       "      <td>1.000000</td>\n",
       "      <td>0.000000</td>\n",
       "      <td>8.987060e+09</td>\n",
       "      <td>0.000000</td>\n",
       "      <td>0.000000e+00</td>\n",
       "      <td>0.000000</td>\n",
       "    </tr>\n",
       "    <tr>\n",
       "      <th>25%</th>\n",
       "      <td>10277.500000</td>\n",
       "      <td>3.770000</td>\n",
       "      <td>9.780345e+12</td>\n",
       "      <td>192.000000</td>\n",
       "      <td>1.040000e+02</td>\n",
       "      <td>9.000000</td>\n",
       "    </tr>\n",
       "    <tr>\n",
       "      <th>50%</th>\n",
       "      <td>20287.000000</td>\n",
       "      <td>3.960000</td>\n",
       "      <td>9.780582e+12</td>\n",
       "      <td>299.000000</td>\n",
       "      <td>7.450000e+02</td>\n",
       "      <td>47.000000</td>\n",
       "    </tr>\n",
       "    <tr>\n",
       "      <th>75%</th>\n",
       "      <td>32104.500000</td>\n",
       "      <td>4.140000</td>\n",
       "      <td>9.780872e+12</td>\n",
       "      <td>416.000000</td>\n",
       "      <td>5.000500e+03</td>\n",
       "      <td>238.000000</td>\n",
       "    </tr>\n",
       "    <tr>\n",
       "      <th>max</th>\n",
       "      <td>45641.000000</td>\n",
       "      <td>5.000000</td>\n",
       "      <td>9.790008e+12</td>\n",
       "      <td>6576.000000</td>\n",
       "      <td>4.597666e+06</td>\n",
       "      <td>94265.000000</td>\n",
       "    </tr>\n",
       "  </tbody>\n",
       "</table>\n",
       "</div>"
      ],
      "text/plain": [
       "             bookID  average_rating        isbn13     num_pages  \\\n",
       "count  11123.000000    11123.000000  1.112300e+04  11123.000000   \n",
       "mean   21310.856963        3.934075  9.759880e+12    336.405556   \n",
       "std    13094.727252        0.350485  4.429758e+11    241.152626   \n",
       "min        1.000000        0.000000  8.987060e+09      0.000000   \n",
       "25%    10277.500000        3.770000  9.780345e+12    192.000000   \n",
       "50%    20287.000000        3.960000  9.780582e+12    299.000000   \n",
       "75%    32104.500000        4.140000  9.780872e+12    416.000000   \n",
       "max    45641.000000        5.000000  9.790008e+12   6576.000000   \n",
       "\n",
       "       ratings_count  text_reviews_count  \n",
       "count   1.112300e+04        11123.000000  \n",
       "mean    1.794285e+04          542.048099  \n",
       "std     1.124992e+05         2576.619589  \n",
       "min     0.000000e+00            0.000000  \n",
       "25%     1.040000e+02            9.000000  \n",
       "50%     7.450000e+02           47.000000  \n",
       "75%     5.000500e+03          238.000000  \n",
       "max     4.597666e+06        94265.000000  "
      ]
     },
     "execution_count": 67,
     "metadata": {},
     "output_type": "execute_result"
    }
   ],
   "source": [
    "df.describe()"
   ]
  },
  {
   "cell_type": "markdown",
   "id": "0d942a51",
   "metadata": {},
   "source": [
    "#### Data distribution"
   ]
  },
  {
   "cell_type": "code",
   "execution_count": 68,
   "id": "7b152c9c",
   "metadata": {},
   "outputs": [
    {
     "data": {
      "image/png": "[encoded data removed]",
      "text/plain": [
       "<Figure size 1200x400 with 2 Axes>"
      ]
     },
     "metadata": {},
     "output_type": "display_data"
    }
   ],
   "source": [
    "df.hist(column=[\"average_rating\", \"  num_pages\"], \n",
    "        bins=100, grid=False, figsize=(12,4), color='#86bf91', rwidth=0.9)\n",
    "plt.show()"
   ]
  },
  {
   "cell_type": "markdown",
   "id": "91e1cedb",
   "metadata": {},
   "source": [
    "#### Plotting each dimension against the target"
   ]
  },
  {
   "cell_type": "code",
   "execution_count": 69,
   "id": "f23e2c44",
   "metadata": {},
   "outputs": [
    {
     "data": {
      "text/html": [
       "<div>\n",
       "<style scoped>\n",
       "    .dataframe tbody tr th:only-of-type {\n",
       "        vertical-align: middle;\n",
       "    }\n",
       "\n",
       "    .dataframe tbody tr th {\n",
       "        vertical-align: top;\n",
       "    }\n",
       "\n",
       "    .dataframe thead th {\n",
       "        text-align: right;\n",
       "    }\n",
       "</style>\n",
       "<table border=\"1\" class=\"dataframe\">\n",
       "  <thead>\n",
       "    <tr style=\"text-align: right;\">\n",
       "      <th></th>\n",
       "      <th>num_pages</th>\n",
       "      <th>average_rating</th>\n",
       "      <th>ratings_count</th>\n",
       "    </tr>\n",
       "  </thead>\n",
       "  <tbody>\n",
       "    <tr>\n",
       "      <th>num_pages</th>\n",
       "      <td>1.000000</td>\n",
       "      <td>0.150477</td>\n",
       "      <td>0.034337</td>\n",
       "    </tr>\n",
       "    <tr>\n",
       "      <th>average_rating</th>\n",
       "      <td>0.150477</td>\n",
       "      <td>1.000000</td>\n",
       "      <td>0.038224</td>\n",
       "    </tr>\n",
       "    <tr>\n",
       "      <th>ratings_count</th>\n",
       "      <td>0.034337</td>\n",
       "      <td>0.038224</td>\n",
       "      <td>1.000000</td>\n",
       "    </tr>\n",
       "  </tbody>\n",
       "</table>\n",
       "</div>"
      ],
      "text/plain": [
       "                  num_pages  average_rating  ratings_count\n",
       "  num_pages        1.000000        0.150477       0.034337\n",
       "average_rating     0.150477        1.000000       0.038224\n",
       "ratings_count      0.034337        0.038224       1.000000"
      ]
     },
     "execution_count": 69,
     "metadata": {},
     "output_type": "execute_result"
    }
   ],
   "source": [
    "df[[\"  num_pages\", \"average_rating\", \"ratings_count\"]].corr()"
   ]
  },
  {
   "cell_type": "code",
   "execution_count": 70,
   "id": "b5a96275",
   "metadata": {},
   "outputs": [
    {
     "data": {
      "text/plain": [
       "<matplotlib.collections.PathCollection at 0x1589ef13a10>"
      ]
     },
     "execution_count": 70,
     "metadata": {},
     "output_type": "execute_result"
    },
    {
     "data": {
      "image/png": "[encoded data removed]",
      "text/plain": [
       "<Figure size 640x480 with 1 Axes>"
      ]
     },
     "metadata": {},
     "output_type": "display_data"
    }
   ],
   "source": [
    "plt.scatter(df[\"  num_pages\"], df[\"average_rating\"], linewidths=0.1)"
   ]
  },
  {
   "cell_type": "code",
   "execution_count": 71,
   "id": "8beaec72",
   "metadata": {},
   "outputs": [
    {
     "data": {
      "text/plain": [
       "25"
      ]
     },
     "execution_count": 71,
     "metadata": {},
     "output_type": "execute_result"
    }
   ],
   "source": [
    "(df['average_rating'] < 1).sum()"
   ]
  },
  {
   "cell_type": "code",
   "execution_count": 72,
   "id": "95e2eb56",
   "metadata": {},
   "outputs": [
    {
     "data": {
      "image/png": "[encoded data removed]",
      "text/plain": [
       "<Figure size 1000x800 with 1 Axes>"
      ]
     },
     "metadata": {},
     "output_type": "display_data"
    }
   ],
   "source": [
    "# Counting the frequency of each language code\n",
    "language_counts = df['language_code'].value_counts()\n",
    "\n",
    "# Creating a bar chart for the language codes\n",
    "plt.figure(figsize=(10, 8))\n",
    "language_counts.plot(kind='bar')\n",
    "plt.title('Frequency of Each Language Code')\n",
    "plt.xlabel('Language Code')\n",
    "plt.ylabel('Frequency')\n",
    "plt.xticks(rotation=45)\n",
    "\n",
    "for i in range(len(language_counts)):\n",
    "    plt.text(i, language_counts[i], str(language_counts[i]), ha='center', va='bottom')\n",
    "    \n",
    "plt.tight_layout()"
   ]
  },
  {
   "cell_type": "markdown",
   "id": "090641ba",
   "metadata": {},
   "source": [
    "## 3 Pre-Processing"
   ]
  },
  {
   "cell_type": "markdown",
   "id": "f8eb9c8e",
   "metadata": {},
   "source": [
    "#### Removing irrelevant feature"
   ]
  },
  {
   "cell_type": "code",
   "execution_count": 73,
   "id": "a0df1ec0",
   "metadata": {},
   "outputs": [],
   "source": [
    "df = df.drop(['bookID', 'title', 'isbn', 'isbn13'], axis = 1)"
   ]
  },
  {
   "cell_type": "markdown",
   "id": "767da999",
   "metadata": {},
   "source": [
    "#### Exclude languages with fewer than 99 books from the dataset"
   ]
  },
  {
   "cell_type": "code",
   "execution_count": 74,
   "id": "625e534c",
   "metadata": {},
   "outputs": [],
   "source": [
    "df['language_code'].replace({'en-US':'eng', 'en-GB':'eng', 'en-CA':'eng'}, inplace=True)\n",
    "language_counts = df['language_code'].value_counts()\n",
    "df = df[~df['language_code'].isin(language_counts[language_counts < 99].index)]"
   ]
  },
  {
   "cell_type": "code",
   "execution_count": 75,
   "id": "42e93ae2",
   "metadata": {},
   "outputs": [
    {
     "data": {
      "text/plain": [
       "language_code\n",
       "eng    10537\n",
       "spa      218\n",
       "fre      144\n",
       "ger       99\n",
       "Name: count, dtype: int64"
      ]
     },
     "execution_count": 75,
     "metadata": {},
     "output_type": "execute_result"
    }
   ],
   "source": [
    "df['language_code'].value_counts()"
   ]
  },
  {
   "cell_type": "markdown",
   "id": "75d4f44c",
   "metadata": {},
   "source": [
    "#### Removing unnecessary spaces"
   ]
  },
  {
   "cell_type": "code",
   "execution_count": 76,
   "id": "30e2c551",
   "metadata": {},
   "outputs": [],
   "source": [
    "df.rename(columns=lambda x: x.strip(), inplace=True)"
   ]
  },
  {
   "cell_type": "markdown",
   "id": "a780906b",
   "metadata": {},
   "source": [
    "#### Filter out books that have received too few ratings"
   ]
  },
  {
   "cell_type": "code",
   "execution_count": 77,
   "id": "8680bf8f",
   "metadata": {},
   "outputs": [],
   "source": [
    "df.query(\"ratings_count >= 20\", inplace=True)"
   ]
  },
  {
   "cell_type": "code",
   "execution_count": 78,
   "id": "d91c4b43",
   "metadata": {},
   "outputs": [
    {
     "data": {
      "text/html": [
       "<div>\n",
       "<style scoped>\n",
       "    .dataframe tbody tr th:only-of-type {\n",
       "        vertical-align: middle;\n",
       "    }\n",
       "\n",
       "    .dataframe tbody tr th {\n",
       "        vertical-align: top;\n",
       "    }\n",
       "\n",
       "    .dataframe thead th {\n",
       "        text-align: right;\n",
       "    }\n",
       "</style>\n",
       "<table border=\"1\" class=\"dataframe\">\n",
       "  <thead>\n",
       "    <tr style=\"text-align: right;\">\n",
       "      <th></th>\n",
       "      <th>average_rating</th>\n",
       "      <th>num_pages</th>\n",
       "      <th>ratings_count</th>\n",
       "      <th>text_reviews_count</th>\n",
       "    </tr>\n",
       "  </thead>\n",
       "  <tbody>\n",
       "    <tr>\n",
       "      <th>count</th>\n",
       "      <td>9941.000000</td>\n",
       "      <td>9941.000000</td>\n",
       "      <td>9.941000e+03</td>\n",
       "      <td>9941.000000</td>\n",
       "    </tr>\n",
       "    <tr>\n",
       "      <th>mean</th>\n",
       "      <td>3.947065</td>\n",
       "      <td>343.476612</td>\n",
       "      <td>2.006989e+04</td>\n",
       "      <td>606.212956</td>\n",
       "    </tr>\n",
       "    <tr>\n",
       "      <th>std</th>\n",
       "      <td>0.271735</td>\n",
       "      <td>240.175589</td>\n",
       "      <td>1.188209e+05</td>\n",
       "      <td>2718.392407</td>\n",
       "    </tr>\n",
       "    <tr>\n",
       "      <th>min</th>\n",
       "      <td>2.400000</td>\n",
       "      <td>0.000000</td>\n",
       "      <td>2.000000e+01</td>\n",
       "      <td>0.000000</td>\n",
       "    </tr>\n",
       "    <tr>\n",
       "      <th>25%</th>\n",
       "      <td>3.780000</td>\n",
       "      <td>206.000000</td>\n",
       "      <td>2.080000e+02</td>\n",
       "      <td>16.000000</td>\n",
       "    </tr>\n",
       "    <tr>\n",
       "      <th>50%</th>\n",
       "      <td>3.960000</td>\n",
       "      <td>304.000000</td>\n",
       "      <td>1.101000e+03</td>\n",
       "      <td>65.000000</td>\n",
       "    </tr>\n",
       "    <tr>\n",
       "      <th>75%</th>\n",
       "      <td>4.130000</td>\n",
       "      <td>419.000000</td>\n",
       "      <td>6.253000e+03</td>\n",
       "      <td>293.000000</td>\n",
       "    </tr>\n",
       "    <tr>\n",
       "      <th>max</th>\n",
       "      <td>4.820000</td>\n",
       "      <td>6576.000000</td>\n",
       "      <td>4.597666e+06</td>\n",
       "      <td>94265.000000</td>\n",
       "    </tr>\n",
       "  </tbody>\n",
       "</table>\n",
       "</div>"
      ],
      "text/plain": [
       "       average_rating    num_pages  ratings_count  text_reviews_count\n",
       "count     9941.000000  9941.000000   9.941000e+03         9941.000000\n",
       "mean         3.947065   343.476612   2.006989e+04          606.212956\n",
       "std          0.271735   240.175589   1.188209e+05         2718.392407\n",
       "min          2.400000     0.000000   2.000000e+01            0.000000\n",
       "25%          3.780000   206.000000   2.080000e+02           16.000000\n",
       "50%          3.960000   304.000000   1.101000e+03           65.000000\n",
       "75%          4.130000   419.000000   6.253000e+03          293.000000\n",
       "max          4.820000  6576.000000   4.597666e+06        94265.000000"
      ]
     },
     "execution_count": 78,
     "metadata": {},
     "output_type": "execute_result"
    }
   ],
   "source": [
    "df.describe()"
   ]
  },
  {
   "cell_type": "code",
   "execution_count": 79,
   "id": "cfa9e6f7",
   "metadata": {},
   "outputs": [],
   "source": [
    "def preprocess_author_name(author_name):\n",
    "    # Remove spaces in the author's name and delete characters before the '/'\n",
    "    return author_name.replace(\" \", \"\").split(\"/\")[0]\n",
    "\n",
    "df['authors'] = df['authors'].apply(lambda x: preprocess_author_name(x))"
   ]
  },
  {
   "cell_type": "code",
   "execution_count": 80,
   "id": "b1cd35ec",
   "metadata": {},
   "outputs": [
    {
     "data": {
      "text/plain": [
       "authors               3732\n",
       "average_rating         191\n",
       "language_code            4\n",
       "num_pages              979\n",
       "ratings_count         5269\n",
       "text_reviews_count    1822\n",
       "publication_date      3381\n",
       "publisher             1919\n",
       "dtype: int64"
      ]
     },
     "execution_count": 80,
     "metadata": {},
     "output_type": "execute_result"
    }
   ],
   "source": [
    "df.nunique()"
   ]
  },
  {
   "cell_type": "markdown",
   "id": "81f123fb",
   "metadata": {},
   "source": [
    "#### Date encoding"
   ]
  },
  {
   "cell_type": "code",
   "execution_count": 81,
   "id": "d4226417",
   "metadata": {},
   "outputs": [],
   "source": [
    "df['publication_date'] = pd.to_datetime(df['publication_date'], format='%m/%d/%Y', errors='coerce')"
   ]
  },
  {
   "cell_type": "code",
   "execution_count": 82,
   "id": "bf3d771e",
   "metadata": {},
   "outputs": [
    {
     "name": "stdout",
     "output_type": "stream",
     "text": [
      "1\n"
     ]
    }
   ],
   "source": [
    "print(len(df[df['publication_date'].isnull()]))"
   ]
  },
  {
   "cell_type": "code",
   "execution_count": 83,
   "id": "541f87e5",
   "metadata": {},
   "outputs": [],
   "source": [
    "df.dropna(subset=['publication_date'], inplace=True)\n",
    "df['publication_date'] = df['publication_date'].apply(lambda x: x.timestamp())"
   ]
  },
  {
   "cell_type": "code",
   "execution_count": 84,
   "id": "5db2dd8b",
   "metadata": {},
   "outputs": [],
   "source": [
    "def binary_encoder(df, column_name):\n",
    "    encoder = preprocessing.OneHotEncoder(sparse_output=False, handle_unknown='ignore')\n",
    "    encoded = encoder.fit_transform(df[[column_name]])\n",
    "    encoded_column_name = encoder.get_feature_names_out([column_name])\n",
    "    encoded_df = pd.DataFrame(encoded, columns=encoded_column_name)\n",
    "    df = pd.concat([df.reset_index(drop=True), encoded_df], axis=1)\n",
    "    df.drop(column_name, axis=1, inplace=True)\n",
    "    return df"
   ]
  },
  {
   "cell_type": "code",
   "execution_count": 85,
   "id": "66d973c7",
   "metadata": {},
   "outputs": [
    {
     "data": {
      "text/html": [
       "<div>\n",
       "<style scoped>\n",
       "    .dataframe tbody tr th:only-of-type {\n",
       "        vertical-align: middle;\n",
       "    }\n",
       "\n",
       "    .dataframe tbody tr th {\n",
       "        vertical-align: top;\n",
       "    }\n",
       "\n",
       "    .dataframe thead th {\n",
       "        text-align: right;\n",
       "    }\n",
       "</style>\n",
       "<table border=\"1\" class=\"dataframe\">\n",
       "  <thead>\n",
       "    <tr style=\"text-align: right;\">\n",
       "      <th></th>\n",
       "      <th>average_rating</th>\n",
       "      <th>num_pages</th>\n",
       "      <th>ratings_count</th>\n",
       "      <th>text_reviews_count</th>\n",
       "      <th>publication_date</th>\n",
       "      <th>publisher</th>\n",
       "      <th>authors_A.B.Yehoshua</th>\n",
       "      <th>authors_A.J.Jacobs</th>\n",
       "      <th>authors_A.M.Homes</th>\n",
       "      <th>authors_A.N.Roquelaure</th>\n",
       "      <th>...</th>\n",
       "      <th>authors_ZoraNealeHurston</th>\n",
       "      <th>authors_ZoëHeller</th>\n",
       "      <th>authors_bellhooks</th>\n",
       "      <th>authors_ÅsneSeierstad</th>\n",
       "      <th>authors_ÉmileZola</th>\n",
       "      <th>authors_Éric-EmmanuelSchmitt</th>\n",
       "      <th>language_code_eng</th>\n",
       "      <th>language_code_fre</th>\n",
       "      <th>language_code_ger</th>\n",
       "      <th>language_code_spa</th>\n",
       "    </tr>\n",
       "  </thead>\n",
       "  <tbody>\n",
       "    <tr>\n",
       "      <th>0</th>\n",
       "      <td>4.57</td>\n",
       "      <td>652</td>\n",
       "      <td>2095690</td>\n",
       "      <td>27591</td>\n",
       "      <td>1.158365e+09</td>\n",
       "      <td>Scholastic Inc.</td>\n",
       "      <td>0.0</td>\n",
       "      <td>0.0</td>\n",
       "      <td>0.0</td>\n",
       "      <td>0.0</td>\n",
       "      <td>...</td>\n",
       "      <td>0.0</td>\n",
       "      <td>0.0</td>\n",
       "      <td>0.0</td>\n",
       "      <td>0.0</td>\n",
       "      <td>0.0</td>\n",
       "      <td>0.0</td>\n",
       "      <td>1.0</td>\n",
       "      <td>0.0</td>\n",
       "      <td>0.0</td>\n",
       "      <td>0.0</td>\n",
       "    </tr>\n",
       "    <tr>\n",
       "      <th>1</th>\n",
       "      <td>4.49</td>\n",
       "      <td>870</td>\n",
       "      <td>2153167</td>\n",
       "      <td>29221</td>\n",
       "      <td>1.093997e+09</td>\n",
       "      <td>Scholastic Inc.</td>\n",
       "      <td>0.0</td>\n",
       "      <td>0.0</td>\n",
       "      <td>0.0</td>\n",
       "      <td>0.0</td>\n",
       "      <td>...</td>\n",
       "      <td>0.0</td>\n",
       "      <td>0.0</td>\n",
       "      <td>0.0</td>\n",
       "      <td>0.0</td>\n",
       "      <td>0.0</td>\n",
       "      <td>0.0</td>\n",
       "      <td>1.0</td>\n",
       "      <td>0.0</td>\n",
       "      <td>0.0</td>\n",
       "      <td>0.0</td>\n",
       "    </tr>\n",
       "    <tr>\n",
       "      <th>2</th>\n",
       "      <td>4.42</td>\n",
       "      <td>352</td>\n",
       "      <td>6333</td>\n",
       "      <td>244</td>\n",
       "      <td>1.067645e+09</td>\n",
       "      <td>Scholastic</td>\n",
       "      <td>0.0</td>\n",
       "      <td>0.0</td>\n",
       "      <td>0.0</td>\n",
       "      <td>0.0</td>\n",
       "      <td>...</td>\n",
       "      <td>0.0</td>\n",
       "      <td>0.0</td>\n",
       "      <td>0.0</td>\n",
       "      <td>0.0</td>\n",
       "      <td>0.0</td>\n",
       "      <td>0.0</td>\n",
       "      <td>1.0</td>\n",
       "      <td>0.0</td>\n",
       "      <td>0.0</td>\n",
       "      <td>0.0</td>\n",
       "    </tr>\n",
       "    <tr>\n",
       "      <th>3</th>\n",
       "      <td>4.56</td>\n",
       "      <td>435</td>\n",
       "      <td>2339585</td>\n",
       "      <td>36325</td>\n",
       "      <td>1.083370e+09</td>\n",
       "      <td>Scholastic Inc.</td>\n",
       "      <td>0.0</td>\n",
       "      <td>0.0</td>\n",
       "      <td>0.0</td>\n",
       "      <td>0.0</td>\n",
       "      <td>...</td>\n",
       "      <td>0.0</td>\n",
       "      <td>0.0</td>\n",
       "      <td>0.0</td>\n",
       "      <td>0.0</td>\n",
       "      <td>0.0</td>\n",
       "      <td>0.0</td>\n",
       "      <td>1.0</td>\n",
       "      <td>0.0</td>\n",
       "      <td>0.0</td>\n",
       "      <td>0.0</td>\n",
       "    </tr>\n",
       "    <tr>\n",
       "      <th>4</th>\n",
       "      <td>4.78</td>\n",
       "      <td>2690</td>\n",
       "      <td>41428</td>\n",
       "      <td>164</td>\n",
       "      <td>1.095034e+09</td>\n",
       "      <td>Scholastic</td>\n",
       "      <td>0.0</td>\n",
       "      <td>0.0</td>\n",
       "      <td>0.0</td>\n",
       "      <td>0.0</td>\n",
       "      <td>...</td>\n",
       "      <td>0.0</td>\n",
       "      <td>0.0</td>\n",
       "      <td>0.0</td>\n",
       "      <td>0.0</td>\n",
       "      <td>0.0</td>\n",
       "      <td>0.0</td>\n",
       "      <td>1.0</td>\n",
       "      <td>0.0</td>\n",
       "      <td>0.0</td>\n",
       "      <td>0.0</td>\n",
       "    </tr>\n",
       "  </tbody>\n",
       "</table>\n",
       "<p>5 rows × 3742 columns</p>\n",
       "</div>"
      ],
      "text/plain": [
       "   average_rating  num_pages  ratings_count  text_reviews_count  \\\n",
       "0            4.57        652        2095690               27591   \n",
       "1            4.49        870        2153167               29221   \n",
       "2            4.42        352           6333                 244   \n",
       "3            4.56        435        2339585               36325   \n",
       "4            4.78       2690          41428                 164   \n",
       "\n",
       "   publication_date        publisher  authors_A.B.Yehoshua  \\\n",
       "0      1.158365e+09  Scholastic Inc.                   0.0   \n",
       "1      1.093997e+09  Scholastic Inc.                   0.0   \n",
       "2      1.067645e+09       Scholastic                   0.0   \n",
       "3      1.083370e+09  Scholastic Inc.                   0.0   \n",
       "4      1.095034e+09       Scholastic                   0.0   \n",
       "\n",
       "   authors_A.J.Jacobs  authors_A.M.Homes  authors_A.N.Roquelaure  ...  \\\n",
       "0                 0.0                0.0                     0.0  ...   \n",
       "1                 0.0                0.0                     0.0  ...   \n",
       "2                 0.0                0.0                     0.0  ...   \n",
       "3                 0.0                0.0                     0.0  ...   \n",
       "4                 0.0                0.0                     0.0  ...   \n",
       "\n",
       "   authors_ZoraNealeHurston  authors_ZoëHeller  authors_bellhooks  \\\n",
       "0                       0.0                0.0                0.0   \n",
       "1                       0.0                0.0                0.0   \n",
       "2                       0.0                0.0                0.0   \n",
       "3                       0.0                0.0                0.0   \n",
       "4                       0.0                0.0                0.0   \n",
       "\n",
       "   authors_ÅsneSeierstad  authors_ÉmileZola  authors_Éric-EmmanuelSchmitt  \\\n",
       "0                    0.0                0.0                           0.0   \n",
       "1                    0.0                0.0                           0.0   \n",
       "2                    0.0                0.0                           0.0   \n",
       "3                    0.0                0.0                           0.0   \n",
       "4                    0.0                0.0                           0.0   \n",
       "\n",
       "   language_code_eng  language_code_fre  language_code_ger  language_code_spa  \n",
       "0                1.0                0.0                0.0                0.0  \n",
       "1                1.0                0.0                0.0                0.0  \n",
       "2                1.0                0.0                0.0                0.0  \n",
       "3                1.0                0.0                0.0                0.0  \n",
       "4                1.0                0.0                0.0                0.0  \n",
       "\n",
       "[5 rows x 3742 columns]"
      ]
     },
     "execution_count": 85,
     "metadata": {},
     "output_type": "execute_result"
    }
   ],
   "source": [
    "# df = binary_encoder(df, 'publisher')\n",
    "df = binary_encoder(df, 'authors')\n",
    "df = binary_encoder(df, 'language_code')\n",
    "df.head()"
   ]
  },
  {
   "cell_type": "markdown",
   "id": "3b0d057f",
   "metadata": {},
   "source": [
    "#### Cleaned dataset"
   ]
  },
  {
   "cell_type": "code",
   "execution_count": 86,
   "id": "45399e10",
   "metadata": {},
   "outputs": [],
   "source": [
    "df.to_csv('books_cleaned.csv', index=False)"
   ]
  },
  {
   "cell_type": "markdown",
   "id": "f63f3c49",
   "metadata": {},
   "source": [
    "## Linear regression"
   ]
  },
  {
   "cell_type": "code",
   "execution_count": 87,
   "id": "35b5836f",
   "metadata": {},
   "outputs": [
    {
     "data": {
      "text/html": [
       "<style>#sk-container-id-2 {color: black;}#sk-container-id-2 pre{padding: 0;}#sk-container-id-2 div.sk-toggleable {background-color: white;}#sk-container-id-2 label.sk-toggleable__label {cursor: pointer;display: block;width: 100%;margin-bottom: 0;padding: 0.3em;box-sizing: border-box;text-align: center;}#sk-container-id-2 label.sk-toggleable__label-arrow:before {content: \"▸\";float: left;margin-right: 0.25em;color: #696969;}#sk-container-id-2 label.sk-toggleable__label-arrow:hover:before {color: black;}#sk-container-id-2 div.sk-estimator:hover label.sk-toggleable__label-arrow:before {color: black;}#sk-container-id-2 div.sk-toggleable__content {max-height: 0;max-width: 0;overflow: hidden;text-align: left;background-color: #f0f8ff;}#sk-container-id-2 div.sk-toggleable__content pre {margin: 0.2em;color: black;border-radius: 0.25em;background-color: #f0f8ff;}#sk-container-id-2 input.sk-toggleable__control:checked~div.sk-toggleable__content {max-height: 200px;max-width: 100%;overflow: auto;}#sk-container-id-2 input.sk-toggleable__control:checked~label.sk-toggleable__label-arrow:before {content: \"▾\";}#sk-container-id-2 div.sk-estimator input.sk-toggleable__control:checked~label.sk-toggleable__label {background-color: #d4ebff;}#sk-container-id-2 div.sk-label input.sk-toggleable__control:checked~label.sk-toggleable__label {background-color: #d4ebff;}#sk-container-id-2 input.sk-hidden--visually {border: 0;clip: rect(1px 1px 1px 1px);clip: rect(1px, 1px, 1px, 1px);height: 1px;margin: -1px;overflow: hidden;padding: 0;position: absolute;width: 1px;}#sk-container-id-2 div.sk-estimator {font-family: monospace;background-color: #f0f8ff;border: 1px dotted black;border-radius: 0.25em;box-sizing: border-box;margin-bottom: 0.5em;}#sk-container-id-2 div.sk-estimator:hover {background-color: #d4ebff;}#sk-container-id-2 div.sk-parallel-item::after {content: \"\";width: 100%;border-bottom: 1px solid gray;flex-grow: 1;}#sk-container-id-2 div.sk-label:hover label.sk-toggleable__label {background-color: #d4ebff;}#sk-container-id-2 div.sk-serial::before {content: \"\";position: absolute;border-left: 1px solid gray;box-sizing: border-box;top: 0;bottom: 0;left: 50%;z-index: 0;}#sk-container-id-2 div.sk-serial {display: flex;flex-direction: column;align-items: center;background-color: white;padding-right: 0.2em;padding-left: 0.2em;position: relative;}#sk-container-id-2 div.sk-item {position: relative;z-index: 1;}#sk-container-id-2 div.sk-parallel {display: flex;align-items: stretch;justify-content: center;background-color: white;position: relative;}#sk-container-id-2 div.sk-item::before, #sk-container-id-2 div.sk-parallel-item::before {content: \"\";position: absolute;border-left: 1px solid gray;box-sizing: border-box;top: 0;bottom: 0;left: 50%;z-index: -1;}#sk-container-id-2 div.sk-parallel-item {display: flex;flex-direction: column;z-index: 1;position: relative;background-color: white;}#sk-container-id-2 div.sk-parallel-item:first-child::after {align-self: flex-end;width: 50%;}#sk-container-id-2 div.sk-parallel-item:last-child::after {align-self: flex-start;width: 50%;}#sk-container-id-2 div.sk-parallel-item:only-child::after {width: 0;}#sk-container-id-2 div.sk-dashed-wrapped {border: 1px dashed gray;margin: 0 0.4em 0.5em 0.4em;box-sizing: border-box;padding-bottom: 0.4em;background-color: white;}#sk-container-id-2 div.sk-label label {font-family: monospace;font-weight: bold;display: inline-block;line-height: 1.2em;}#sk-container-id-2 div.sk-label-container {text-align: center;}#sk-container-id-2 div.sk-container {/* jupyter's `normalize.less` sets `[hidden] { display: none; }` but bootstrap.min.css set `[hidden] { display: none !important; }` so we also need the `!important` here to be able to override the default hidden behavior on the sphinx rendered scikit-learn.org. See: https://github.com/scikit-learn/scikit-learn/issues/21755 */display: inline-block !important;position: relative;}#sk-container-id-2 div.sk-text-repr-fallback {display: none;}</style><div id=\"sk-container-id-2\" class=\"sk-top-container\"><div class=\"sk-text-repr-fallback\"><pre>LinearRegression()</pre><b>In a Jupyter environment, please rerun this cell to show the HTML representation or trust the notebook. <br />On GitHub, the HTML representation is unable to render, please try loading this page with nbviewer.org.</b></div><div class=\"sk-container\" hidden><div class=\"sk-item\"><div class=\"sk-estimator sk-toggleable\"><input class=\"sk-toggleable__control sk-hidden--visually\" id=\"sk-estimator-id-2\" type=\"checkbox\" checked><label for=\"sk-estimator-id-2\" class=\"sk-toggleable__label sk-toggleable__label-arrow\">LinearRegression</label><div class=\"sk-toggleable__content\"><pre>LinearRegression()</pre></div></div></div></div></div>"
      ],
      "text/plain": [
       "LinearRegression()"
      ]
     },
     "execution_count": 87,
     "metadata": {},
     "output_type": "execute_result"
    }
   ],
   "source": [
    "X = df.drop(['average_rating', 'publisher'], axis = 1)\n",
    "y = df['average_rating']\n",
    "X_train, X_test, y_train, y_test = train_test_split(X,y, test_size=0.2)\n",
    "linReg = LinearRegression()\n",
    "linReg.fit(X_train, y_train)"
   ]
  },
  {
   "cell_type": "code",
   "execution_count": 88,
   "id": "63a7d0e0",
   "metadata": {},
   "outputs": [],
   "source": [
    "y_pred = linReg.predict(X_test)"
   ]
  },
  {
   "cell_type": "code",
   "execution_count": 89,
   "id": "7c815b4f",
   "metadata": {},
   "outputs": [
    {
     "name": "stdout",
     "output_type": "stream",
     "text": [
      "Mean Absolute Error (MAE): 0.17003853917027162\n",
      "Mean Squared Error (MSE): 0.052585253192706086\n",
      "Coefficient de détermination (R-squared) : 0.29340842784631627\n"
     ]
    }
   ],
   "source": [
    "print('Mean Absolute Error (MAE):', mean_absolute_error(y_test, y_pred))\n",
    "print('Mean Squared Error (MSE):', mean_squared_error(y_test, y_pred))\n",
    "print(\"Coefficient de détermination (R-squared) :\", r2_score(y_test, y_pred))"
   ]
  },
  {
   "cell_type": "code",
   "execution_count": 90,
   "id": "540de2ff",
   "metadata": {},
   "outputs": [
    {
     "data": {
      "image/png": "[encoded data removed]",
      "text/plain": [
       "<Figure size 640x480 with 1 Axes>"
      ]
     },
     "metadata": {},
     "output_type": "display_data"
    }
   ],
   "source": [
    "err_hist = np.abs(y_test-y_pred)\n",
    "plt.hist(err_hist, bins=50)\n",
    "plt.show()"
   ]
  },
  {
   "cell_type": "markdown",
   "id": "91e532d8",
   "metadata": {},
   "source": [
    "## Decision Tree"
   ]
  },
  {
   "cell_type": "code",
   "execution_count": 91,
   "id": "2db7a20b",
   "metadata": {},
   "outputs": [
    {
     "name": "stdout",
     "output_type": "stream",
     "text": [
      "Mean Absolute Error (MAE): 0.18966272635814888\n",
      "Mean Squared Error (MSE): 0.06138109187625757\n",
      "Coefficient de détermination (R-squared) : 0.2099334577776537\n"
     ]
    }
   ],
   "source": [
    "from sklearn.ensemble import RandomForestRegressor\n",
    "\n",
    "\n",
    "# Diviser les données en ensembles d'entraînement et de test\n",
    "X_train, X_test, y_train, y_test = train_test_split(X, y, test_size=0.2, random_state=42)\n",
    "\n",
    "# Initialiser et entraîner le modèle\n",
    "model = RandomForestRegressor(n_estimators=100, random_state=42)\n",
    "model.fit(X_train, y_train)\n",
    "\n",
    "# Faire des prédictions sur l'ensemble de test\n",
    "y_pred = model.predict(X_test)\n",
    "\n",
    "# Évaluer le modèle\n",
    "print('Mean Absolute Error (MAE):', mean_absolute_error(y_test, predictions))\n",
    "print('Mean Squared Error (MSE):', mean_squared_error(y_test, predictions))\n",
    "print(\"Coefficient de détermination (R-squared) :\", r2_score(y_test, y_pred))"
   ]
  },
  {
   "cell_type": "code",
   "execution_count": 92,
   "id": "0fef623f",
   "metadata": {},
   "outputs": [
    {
     "data": {
      "image/png": "[encoded data removed]",
      "text/plain": [
       "<Figure size 640x480 with 1 Axes>"
      ]
     },
     "metadata": {},
     "output_type": "display_data"
    }
   ],
   "source": [
    "err_hist = np.abs(y_test-y_pred)\n",
    "plt.hist(err_hist, bins=50)\n",
    "plt.show()"
   ]
  },
  {
   "cell_type": "code",
   "execution_count": null,
   "id": "0a74f817",
   "metadata": {},
   "outputs": [],
   "source": [
    "err_hist = np.abs(y_test-y_pred)\n",
    "plt.hist(err_hist, bins=50)\n",
    "plt.show()"
   ]
  },
  {
   "cell_type": "markdown",
   "id": "2e2b3347",
   "metadata": {},
   "source": [
    "## Neural network"
   ]
  },
  {
   "cell_type": "code",
   "execution_count": null,
   "id": "d9293bdc",
   "metadata": {},
   "outputs": [],
   "source": []
  }
 ],
 "metadata": {
  "kernelspec": {
   "display_name": "Python 3 (ipykernel)",
   "language": "python",
   "name": "python3"
  },
  "language_info": {
   "codemirror_mode": {
    "name": "ipython",
    "version": 3
   },
   "file_extension": ".py",
   "mimetype": "text/x-python",
   "name": "python",
   "nbconvert_exporter": "python",
   "pygments_lexer": "ipython3",
   "version": "3.11.5"
  }
 },
 "nbformat": 4,
 "nbformat_minor": 5
}
